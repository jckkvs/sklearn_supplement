{
 "cells": [
  {
   "cell_type": "code",
   "execution_count": 1,
   "metadata": {},
   "outputs": [],
   "source": [
    "# %cd \\\\sodfsv10\\先端解析Ｇ\\01_計算科学DB\\080.チーム共有\\90.AI開発T\\解析プログラム"
   ]
  },
  {
   "cell_type": "code",
   "execution_count": 2,
   "metadata": {},
   "outputs": [],
   "source": [
    "from sklearn_expansion.experimental_design import create_optimal_design\n",
    "from sklearn_expansion.experimental_design import calc_D_value"
   ]
  },
  {
   "cell_type": "code",
   "execution_count": 3,
   "metadata": {},
   "outputs": [],
   "source": [
    "import numpy as np\n",
    "from sklearn.datasets import load_iris\n",
    "from sklearn.preprocessing import StandardScaler\n",
    "from sklearn.model_selection import train_test_split"
   ]
  },
  {
   "cell_type": "code",
   "execution_count": 4,
   "metadata": {},
   "outputs": [],
   "source": [
    "X, y = load_iris(return_X_y=True)\n",
    "X_ss = StandardScaler()\n",
    "X_std = X_ss.fit_transform(X)"
   ]
  },
  {
   "cell_type": "code",
   "execution_count": 5,
   "metadata": {},
   "outputs": [
    {
     "data": {
      "text/plain": [
       "(150, 4)"
      ]
     },
     "execution_count": 5,
     "metadata": {},
     "output_type": "execute_result"
    }
   ],
   "source": [
    "X.shape"
   ]
  },
  {
   "cell_type": "code",
   "execution_count": 6,
   "metadata": {},
   "outputs": [
    {
     "name": "stdout",
     "output_type": "stream",
     "text": [
      "D value is 599.6799717233781\n"
     ]
    }
   ],
   "source": [
    "candidates = create_optimal_design(X, n_experiments=10, n_searches=1000)"
   ]
  },
  {
   "cell_type": "code",
   "execution_count": 7,
   "metadata": {
    "scrolled": true
   },
   "outputs": [
    {
     "name": "stdout",
     "output_type": "stream",
     "text": [
      "[[6.1 2.6 5.6 1.4]\n",
      " [5.1 3.5 1.4 0.2]\n",
      " [6.3 3.3 6.  2.5]\n",
      " [5.7 2.8 4.5 1.3]\n",
      " [5.8 2.7 5.1 1.9]\n",
      " [7.9 3.8 6.4 2. ]\n",
      " [5.7 4.4 1.5 0.4]\n",
      " [6.7 3.1 5.6 2.4]\n",
      " [4.4 2.9 1.4 0.2]\n",
      " [6.9 3.1 5.1 2.3]]\n"
     ]
    }
   ],
   "source": [
    "print(candidates)"
   ]
  },
  {
   "cell_type": "code",
   "execution_count": 8,
   "metadata": {},
   "outputs": [
    {
     "name": "stdout",
     "output_type": "stream",
     "text": [
      "G value is 0.8442743979896348\n"
     ]
    }
   ],
   "source": [
    "candidates = create_optimal_design(X, n_experiments=3, n_searches=10, optimal_type=\"G\")"
   ]
  },
  {
   "cell_type": "code",
   "execution_count": 9,
   "metadata": {},
   "outputs": [
    {
     "name": "stdout",
     "output_type": "stream",
     "text": [
      "[[5.5 4.2 1.4 0.2]\n",
      " [5.  3.5 1.6 0.6]\n",
      " [4.7 3.2 1.6 0.2]]\n"
     ]
    }
   ],
   "source": [
    "print(candidates)"
   ]
  },
  {
   "cell_type": "code",
   "execution_count": null,
   "metadata": {},
   "outputs": [],
   "source": []
  },
  {
   "cell_type": "code",
   "execution_count": 10,
   "metadata": {},
   "outputs": [
    {
     "name": "stdout",
     "output_type": "stream",
     "text": [
      "D value is 382.3594214876019\n"
     ]
    }
   ],
   "source": [
    "import numpy as np\n",
    "import itertools\n",
    "X_1 = np.arange(-2, 2.2 ,0.2)\n",
    "X_2 = np.arange(-2, 2.2 ,0.2)\n",
    "X_design_space = list(itertools.product(X_1, X_2))\n",
    "X_MAX = create_optimal_design(X_design_space, optimal_type='D', n_experiments=11, n_searches=100000, random_state=None)\n"
   ]
  },
  {
   "cell_type": "code",
   "execution_count": 11,
   "metadata": {},
   "outputs": [
    {
     "name": "stdout",
     "output_type": "stream",
     "text": [
      "[[-2.0000000e+00 -2.0000000e+00]\n",
      " [-1.8000000e+00 -1.8000000e+00]\n",
      " [-1.6000000e+00 -1.6000000e+00]\n",
      " [-1.4000000e+00 -1.4000000e+00]\n",
      " [-1.2000000e+00 -1.2000000e+00]\n",
      " [-1.0000000e+00 -1.0000000e+00]\n",
      " [-8.0000000e-01 -8.0000000e-01]\n",
      " [-6.0000000e-01 -6.0000000e-01]\n",
      " [-4.0000000e-01 -4.0000000e-01]\n",
      " [-2.0000000e-01 -2.0000000e-01]\n",
      " [-4.4408921e-16 -4.4408921e-16]\n",
      " [ 2.0000000e-01  2.0000000e-01]\n",
      " [ 4.0000000e-01  4.0000000e-01]\n",
      " [ 6.0000000e-01  6.0000000e-01]\n",
      " [ 8.0000000e-01  8.0000000e-01]\n",
      " [ 1.0000000e+00  1.0000000e+00]\n",
      " [ 1.2000000e+00  1.2000000e+00]\n",
      " [ 1.4000000e+00  1.4000000e+00]\n",
      " [ 1.6000000e+00  1.6000000e+00]\n",
      " [ 1.8000000e+00  1.8000000e+00]\n",
      " [ 2.0000000e+00  2.0000000e+00]]\n",
      "1.0942358130705567e-13\n"
     ]
    }
   ],
   "source": [
    "X_D0 = np.array([[i,i] for i in X_1])\n",
    "print(X_D0)\n",
    "print(calc_D_value(X_D0))"
   ]
  },
  {
   "cell_type": "code",
   "execution_count": 12,
   "metadata": {},
   "outputs": [
    {
     "name": "stdout",
     "output_type": "stream",
     "text": [
      "125.43999999999996\n"
     ]
    }
   ],
   "source": [
    "X_D_orthogonal = np.array([[-2.0,0],[-1.2,0],[-0.4,0],[0,0],[0.4,0],[1.2,0],[2.0,0],\n",
    "                 [0,-2.0],[0,-1.2],[0,-0.4],[0,0.4],[0,1.2],[0,2.0],\n",
    "                 ])\n",
    "print(calc_D_value(X_D_orthogonal))"
   ]
  },
  {
   "cell_type": "code",
   "execution_count": 13,
   "metadata": {},
   "outputs": [],
   "source": [
    "import matplotlib.pyplot as plt\n"
   ]
  },
  {
   "cell_type": "code",
   "execution_count": 14,
   "metadata": {},
   "outputs": [
    {
     "data": {
      "text/plain": [
       "<matplotlib.collections.PathCollection at 0x1de095d7d08>"
      ]
     },
     "execution_count": 14,
     "metadata": {},
     "output_type": "execute_result"
    },
    {
     "data": {
      "image/png": "[encoded data removed]",
      "text/plain": [
       "<Figure size 360x360 with 1 Axes>"
      ]
     },
     "metadata": {
      "needs_background": "light"
     },
     "output_type": "display_data"
    }
   ],
   "source": [
    "plt.figure(figsize=(5,5))\n",
    "plt.scatter(X_D0[:,0],X_D0[:,1])\n"
   ]
  },
  {
   "cell_type": "code",
   "execution_count": 15,
   "metadata": {},
   "outputs": [
    {
     "data": {
      "text/plain": [
       "<matplotlib.collections.PathCollection at 0x1de09c095c8>"
      ]
     },
     "execution_count": 15,
     "metadata": {},
     "output_type": "execute_result"
    },
    {
     "data": {
      "image/png": "[encoded data removed]",
      "text/plain": [
       "<Figure size 360x360 with 1 Axes>"
      ]
     },
     "metadata": {
      "needs_background": "light"
     },
     "output_type": "display_data"
    }
   ],
   "source": [
    "plt.figure(figsize=(5,5))\n",
    "plt.xlim(-2.25,2.25)\n",
    "plt.ylim(-2.25,2.25)\n",
    "\n",
    "plt.scatter(X_D_orthogonal[:,0],X_D_orthogonal[:,1])"
   ]
  },
  {
   "cell_type": "code",
   "execution_count": 16,
   "metadata": {},
   "outputs": [
    {
     "data": {
      "text/plain": [
       "<matplotlib.collections.PathCollection at 0x1de09ccb488>"
      ]
     },
     "execution_count": 16,
     "metadata": {},
     "output_type": "execute_result"
    },
    {
     "data": {
      "image/png": "[encoded data removed]",
      "text/plain": [
       "<Figure size 360x360 with 1 Axes>"
      ]
     },
     "metadata": {
      "needs_background": "light"
     },
     "output_type": "display_data"
    }
   ],
   "source": [
    "X_MAX\n",
    "plt.figure(figsize=(5,5))\n",
    "plt.xlim(-2.25,2.25)\n",
    "plt.ylim(-2.25,2.25)\n",
    "\n",
    "plt.scatter(X_MAX[:,0],X_MAX[:,1])"
   ]
  },
  {
   "cell_type": "code",
   "execution_count": 20,
   "metadata": {},
   "outputs": [
    {
     "name": "stdout",
     "output_type": "stream",
     "text": [
      "D value is 186.75000000000014\n"
     ]
    }
   ],
   "source": [
    "import numpy as np\n",
    "import itertools\n",
    "X_1 = np.arange(10, 80 ,10)\n",
    "X_2 = np.arange(10, 80 ,10)\n",
    "X_design_space = list(itertools.product(X_1, X_2))\n",
    "X_MAX_D = create_optimal_design(X_design_space, optimal_type='D', n_experiments=7, n_searches=100000, random_state=None)\n"
   ]
  },
  {
   "cell_type": "code",
   "execution_count": 21,
   "metadata": {},
   "outputs": [
    {
     "data": {
      "text/plain": [
       "array([[10., 70.],\n",
       "       [70., 60.],\n",
       "       [70., 10.],\n",
       "       [10., 10.],\n",
       "       [70., 70.],\n",
       "       [70., 20.],\n",
       "       [10., 20.]])"
      ]
     },
     "execution_count": 21,
     "metadata": {},
     "output_type": "execute_result"
    }
   ],
   "source": [
    "X_MAX_D"
   ]
  },
  {
   "cell_type": "code",
   "execution_count": 22,
   "metadata": {},
   "outputs": [
    {
     "name": "stdout",
     "output_type": "stream",
     "text": [
      "E value is 12.709430584957905\n"
     ]
    }
   ],
   "source": [
    "import numpy as np\n",
    "import itertools\n",
    "X_1 = np.arange(10, 80 ,10)\n",
    "X_2 = np.arange(10, 80 ,10)\n",
    "X_design_space = list(itertools.product(X_1, X_2))\n",
    "X_MAX_E = create_optimal_design(X_design_space, optimal_type='E', n_experiments=7, n_searches=100000, random_state=None)\n"
   ]
  },
  {
   "cell_type": "code",
   "execution_count": 23,
   "metadata": {},
   "outputs": [
    {
     "data": {
      "text/plain": [
       "array([[70., 10.],\n",
       "       [20., 10.],\n",
       "       [70., 70.],\n",
       "       [70., 50.],\n",
       "       [10., 70.],\n",
       "       [10., 10.],\n",
       "       [20., 70.]])"
      ]
     },
     "execution_count": 23,
     "metadata": {},
     "output_type": "execute_result"
    }
   ],
   "source": [
    "X_MAX_E"
   ]
  },
  {
   "cell_type": "code",
   "execution_count": 24,
   "metadata": {},
   "outputs": [],
   "source": [
    "a = -0.1\n",
    "b = 0.35\n",
    "\n"
   ]
  },
  {
   "cell_type": "code",
   "execution_count": null,
   "metadata": {},
   "outputs": [],
   "source": []
  }
 ],
 "metadata": {
  "kernelspec": {
   "display_name": "py37_test",
   "language": "python",
   "name": "py37_test"
  },
  "language_info": {
   "codemirror_mode": {
    "name": "ipython",
    "version": 3
   },
   "file_extension": ".py",
   "mimetype": "text/x-python",
   "name": "python",
   "nbconvert_exporter": "python",
   "pygments_lexer": "ipython3",
   "version": "3.7.11"
  }
 },
 "nbformat": 4,
 "nbformat_minor": 4
}
