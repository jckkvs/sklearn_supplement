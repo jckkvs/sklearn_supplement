{
 "cells": [
  {
   "cell_type": "code",
   "execution_count": 1,
   "metadata": {},
   "outputs": [
    {
     "name": "stdout",
     "output_type": "stream",
     "text": [
      "\\\\sodfsv10\\先端解析Ｇ\\01_計算科学DB\\080.チーム共有\\90.AI開発T\\解析プログラム\n"
     ]
    }
   ],
   "source": [
    "%cd \\\\sodfsv10\\先端解析Ｇ\\01_計算科学DB\\080.チーム共有\\90.AI開発T\\解析プログラム"
   ]
  },
  {
   "cell_type": "code",
   "execution_count": 2,
   "metadata": {},
   "outputs": [],
   "source": [
    "from sklearn_expansion.experimental_design import kennard_stone"
   ]
  },
  {
   "cell_type": "code",
   "execution_count": 3,
   "metadata": {},
   "outputs": [],
   "source": [
    "import numpy as np\n",
    "from sklearn.datasets import load_iris\n",
    "from sklearn.preprocessing import StandardScaler\n",
    "from sklearn.model_selection import train_test_split"
   ]
  },
  {
   "cell_type": "code",
   "execution_count": 4,
   "metadata": {},
   "outputs": [],
   "source": [
    "X, y = load_iris(return_X_y=True)\n",
    "X_ss = StandardScaler()\n",
    "X_std = X_ss.fit_transform(X)"
   ]
  },
  {
   "cell_type": "code",
   "execution_count": 5,
   "metadata": {},
   "outputs": [],
   "source": [
    "candidates = kennard_stone(X)"
   ]
  },
  {
   "cell_type": "code",
   "execution_count": 6,
   "metadata": {},
   "outputs": [
    {
     "name": "stdout",
     "output_type": "stream",
     "text": [
      "[[6.2 2.8 4.8 1.8]\n",
      " [5.8 4.  1.2 0.2]\n",
      " [5.7 2.5 5.  2. ]\n",
      " [5.5 2.3 4.  1.3]\n",
      " [5.1 3.5 1.4 0.3]\n",
      " [7.3 2.9 6.3 1.8]\n",
      " [6.5 3.  5.8 2.2]\n",
      " [5.6 3.  4.5 1.5]\n",
      " [6.7 3.3 5.7 2.5]\n",
      " [6.9 3.1 5.1 2.3]]\n"
     ]
    }
   ],
   "source": [
    "print(candidates)"
   ]
  },
  {
   "cell_type": "code",
   "execution_count": null,
   "metadata": {},
   "outputs": [],
   "source": []
  }
 ],
 "metadata": {
  "kernelspec": {
   "display_name": "py37_test",
   "language": "python",
   "name": "py37_test"
  },
  "language_info": {
   "codemirror_mode": {
    "name": "ipython",
    "version": 3
   },
   "file_extension": ".py",
   "mimetype": "text/x-python",
   "name": "python",
   "nbconvert_exporter": "python",
   "pygments_lexer": "ipython3",
   "version": "3.7.11"
  }
 },
 "nbformat": 4,
 "nbformat_minor": 4
}
