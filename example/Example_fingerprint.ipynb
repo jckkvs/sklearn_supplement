{
 "cells": [
  {
   "cell_type": "code",
   "execution_count": 1,
   "metadata": {},
   "outputs": [
    {
     "name": "stdout",
     "output_type": "stream",
     "text": [
      "\\\\sodfsv10\\先端解析Ｇ\\01_計算科学DB\\080.チーム共有\\90.AI開発T\\解析プログラム\n"
     ]
    }
   ],
   "source": [
    "%cd \\\\sodfsv10\\先端解析Ｇ\\01_計算科学DB\\080.チーム共有\\90.AI開発T\\解析プログラム"
   ]
  },
  {
   "cell_type": "code",
   "execution_count": 2,
   "metadata": {},
   "outputs": [],
   "source": [
    "#from sklearn_expansion.experimental_design import calculate_threshold, check_within_ad\n",
    "from chem_expansion.finger_print import FingerPrint\n",
    "# if DLL load failed raised refer https://github.com/rdkit/rdkit/issues/1610\n",
    "# https://rdkit-discuss.narkive.com/K6k7b82r/dll-load-failed-after-from-rdkit-import-rdbase-in-python"
   ]
  },
  {
   "cell_type": "code",
   "execution_count": 3,
   "metadata": {},
   "outputs": [],
   "source": [
    "import numpy as np\n",
    "import pandas as pd\n",
    "from sklearn.datasets import load_iris\n",
    "from sklearn.preprocessing import StandardScaler\n",
    "from sklearn.model_selection import train_test_split"
   ]
  },
  {
   "cell_type": "code",
   "execution_count": 7,
   "metadata": {},
   "outputs": [
    {
     "name": "stdout",
     "output_type": "stream",
     "text": [
      "  smiles\n",
      "0    CCC\n",
      "1    CCO\n",
      "[[0 0 0 ... 0 0 0]\n",
      " [0 0 0 ... 0 0 0]]\n"
     ]
    }
   ],
   "source": [
    "# simple  case\n",
    "X = [['CCC'],['CCO']]\n",
    "fp_ = FingerPrint(method='morgan', smiles_col=0)\n",
    "X_ = fp_.fit_transform(X)\n",
    "print(X_)"
   ]
  },
  {
   "cell_type": "code",
   "execution_count": 8,
   "metadata": {},
   "outputs": [
    {
     "name": "stdout",
     "output_type": "stream",
     "text": [
      "  smiles\n",
      "0    CCC\n",
      "1    CCO\n",
      "[['0.5' 0 0 ... 0 0 0]\n",
      " ['1.5' 0 0 ... 0 0 0]]\n"
     ]
    }
   ],
   "source": [
    "#  smiles以外にも記述子がある場合\n",
    "X = [['CCC', '0.5'],['CCO', '1.5']]\n",
    "fp_ = FingerPrint(method='morgan', smiles_col=0)\n",
    "X_ = fp_.fit_transform(X)\n",
    "print(X_)"
   ]
  },
  {
   "cell_type": "code",
   "execution_count": 9,
   "metadata": {},
   "outputs": [
    {
     "name": "stdout",
     "output_type": "stream",
     "text": [
      "  smiles\n",
      "0    CCC\n",
      "1    CCO\n",
      "[['CCC' '0.5' 0 ... 0 0 0]\n",
      " ['CCO' '1.5' 0 ... 0 0 0]]\n"
     ]
    }
   ],
   "source": [
    "#  smilesを返す場合\n",
    "X = [['CCC', '0.5'],['CCO', '1.5']]\n",
    "fp_ = FingerPrint(method='morgan', smiles_col=0, remove_smiles=False)\n",
    "X_ = fp_.fit_transform(X)\n",
    "print(X_)"
   ]
  },
  {
   "cell_type": "code",
   "execution_count": null,
   "metadata": {},
   "outputs": [],
   "source": []
  }
 ],
 "metadata": {
  "kernelspec": {
   "display_name": "py37",
   "language": "python",
   "name": "py37"
  },
  "language_info": {
   "codemirror_mode": {
    "name": "ipython",
    "version": 3
   },
   "file_extension": ".py",
   "mimetype": "text/x-python",
   "name": "python",
   "nbconvert_exporter": "python",
   "pygments_lexer": "ipython3",
   "version": "3.7.11"
  }
 },
 "nbformat": 4,
 "nbformat_minor": 4
}
